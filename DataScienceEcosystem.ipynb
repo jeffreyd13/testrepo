{
 "cells": [
  {
   "cell_type": "markdown",
   "id": "c7755d71-e0bd-4625-8a7f-4a6759a157f0",
   "metadata": {},
   "source": [
    "# Data Science Tools and Ecosystem"
   ]
  },
  {
   "cell_type": "markdown",
   "id": "3d83e9d8-41fd-44ec-b520-99a58e289b24",
   "metadata": {},
   "source": [
    "## In this notebook, Data Science tools and Ecosystem are summarised."
   ]
  },
  {
   "cell_type": "markdown",
   "id": "1ed647de-05c9-4690-887d-a02c6734c163",
   "metadata": {
    "jp-MarkdownHeadingCollapsed": true
   },
   "source": [
    "## Objectives"
   ]
  },
  {
   "cell_type": "markdown",
   "id": "c1234211-c733-42bc-ac2f-60b501927c05",
   "metadata": {},
   "source": [
    "1. Popular languages in Data Science\n",
    "--------\n",
    "2. Popular libraries in Data Science\n",
    "----------\n",
    "3. Data Science Tools\n",
    "----------\n",
    "4. Aritmetics in Python\n"
   ]
  },
  {
   "cell_type": "markdown",
   "id": "62bedde8-f425-4ad4-823a-022fee6d7d33",
   "metadata": {},
   "source": [
    "### Some of the popular languages that Data Scientists use are;\n",
    "1. Python\n",
    "2. SQL\n",
    "3. R Programme"
   ]
  },
  {
   "cell_type": "markdown",
   "id": "913fe35f-9122-402b-bb43-283b6133119b",
   "metadata": {},
   "source": [
    "### Some of the commonly used libraries by Data Scientists include;\n",
    "1. Panda\n",
    "2. Scikit-learn\n",
    "3. Tensorflow\n",
    "4. Matplotlib"
   ]
  },
  {
   "cell_type": "markdown",
   "id": "66c6db5e-bbe3-499a-b94b-f4c09f0abfe8",
   "metadata": {},
   "source": [
    "### Data Science Tools\n",
    "----------------------\n",
    "1. Jupyter Notebook\n",
    "---------\n",
    "2. R Studio\n",
    "----------\n",
    "3. Anaconda3\n",
    "-----------\n",
    "4. Google Colab\n",
    "------------\n",
    "5. Watson Studio"
   ]
  },
  {
   "cell_type": "markdown",
   "id": "1e675168-ad23-44ce-b6c6-1ce981875a3a",
   "metadata": {},
   "source": [
    "### Below are a few examples of evaluating arithmetic expressions in Python"
   ]
  },
  {
   "cell_type": "code",
   "execution_count": 5,
   "id": "49ffb5d9-6e76-44f8-9a60-1e29c0acdf8d",
   "metadata": {},
   "outputs": [],
   "source": [
    "## This a simple arithmetic expression to mutiply then add integers"
   ]
  },
  {
   "cell_type": "code",
   "execution_count": 4,
   "id": "002fbf19-849a-4c18-a32d-fdca5bdc0eb7",
   "metadata": {},
   "outputs": [
    {
     "data": {
      "text/plain": [
       "17"
      ]
     },
     "execution_count": 4,
     "metadata": {},
     "output_type": "execute_result"
    }
   ],
   "source": [
    "(3*4)+5"
   ]
  },
  {
   "cell_type": "code",
   "execution_count": null,
   "id": "2b92663e-648e-4280-b126-0a245b69c003",
   "metadata": {},
   "outputs": [],
   "source": [
    "## This will convert 200 minutes to hours by diving by 60"
   ]
  },
  {
   "cell_type": "code",
   "execution_count": 4,
   "id": "8d4ed0d5-c8c2-4681-9e4e-3166c16be1f5",
   "metadata": {},
   "outputs": [
    {
     "data": {
      "text/plain": [
       "3.3333333333333335"
      ]
     },
     "execution_count": 4,
     "metadata": {},
     "output_type": "execute_result"
    }
   ],
   "source": [
    "200/60"
   ]
  },
  {
   "cell_type": "markdown",
   "id": "d49435a3-30d3-4214-a582-876eef150c6f",
   "metadata": {},
   "source": [
    "## Author\n",
    "\n",
    "Dafi Jeffrey Olannye"
   ]
  }
 ],
 "metadata": {
  "kernelspec": {
   "display_name": "Python 3 (ipykernel)",
   "language": "python",
   "name": "python3"
  },
  "language_info": {
   "codemirror_mode": {
    "name": "ipython",
    "version": 3
   },
   "file_extension": ".py",
   "mimetype": "text/x-python",
   "name": "python",
   "nbconvert_exporter": "python",
   "pygments_lexer": "ipython3",
   "version": "3.11.5"
  }
 },
 "nbformat": 4,
 "nbformat_minor": 5
}
